{
 "cells": [
  {
   "cell_type": "code",
   "execution_count": 167,
   "id": "19a37a08",
   "metadata": {},
   "outputs": [],
   "source": [
    "import numpy as np \n",
    "import pandas as pd\n",
    "import matplotlib.pyplot as plt\n",
    "import seaborn as sns"
   ]
  },
  {
   "cell_type": "code",
   "execution_count": 168,
   "id": "54ac7288",
   "metadata": {},
   "outputs": [
    {
     "data": {
      "text/html": [
       "<div>\n",
       "<style scoped>\n",
       "    .dataframe tbody tr th:only-of-type {\n",
       "        vertical-align: middle;\n",
       "    }\n",
       "\n",
       "    .dataframe tbody tr th {\n",
       "        vertical-align: top;\n",
       "    }\n",
       "\n",
       "    .dataframe thead th {\n",
       "        text-align: right;\n",
       "    }\n",
       "</style>\n",
       "<table border=\"1\" class=\"dataframe\">\n",
       "  <thead>\n",
       "    <tr style=\"text-align: right;\">\n",
       "      <th></th>\n",
       "      <th>id</th>\n",
       "      <th>restaurent</th>\n",
       "      <th>city</th>\n",
       "      <th>rating</th>\n",
       "      <th>rating_count</th>\n",
       "      <th>cost</th>\n",
       "      <th>cuisine</th>\n",
       "      <th>lic_no</th>\n",
       "      <th>link</th>\n",
       "      <th>address</th>\n",
       "      <th>menu</th>\n",
       "    </tr>\n",
       "  </thead>\n",
       "  <tbody>\n",
       "    <tr>\n",
       "      <th>0</th>\n",
       "      <td>567335</td>\n",
       "      <td>AB FOODS POINT</td>\n",
       "      <td>Abohar</td>\n",
       "      <td>--</td>\n",
       "      <td>Too Few Ratings</td>\n",
       "      <td>₹ 200</td>\n",
       "      <td>Beverages,Pizzas</td>\n",
       "      <td>2.21227E+13</td>\n",
       "      <td>https://www.swiggy.com/restaurants/ab-foods-po...</td>\n",
       "      <td>AB FOODS POINT, NEAR RISHI NARANG DENTAL CLINI...</td>\n",
       "      <td>Menu/567335.json</td>\n",
       "    </tr>\n",
       "    <tr>\n",
       "      <th>1</th>\n",
       "      <td>531342</td>\n",
       "      <td>Janta Sweet House</td>\n",
       "      <td>Abohar</td>\n",
       "      <td>4.4</td>\n",
       "      <td>50+ ratings</td>\n",
       "      <td>₹ 200</td>\n",
       "      <td>Sweets,Bakery</td>\n",
       "      <td>1.21172E+13</td>\n",
       "      <td>https://www.swiggy.com/restaurants/janta-sweet...</td>\n",
       "      <td>Janta Sweet House, Bazar No.9, Circullar Road,...</td>\n",
       "      <td>Menu/531342.json</td>\n",
       "    </tr>\n",
       "    <tr>\n",
       "      <th>2</th>\n",
       "      <td>158203</td>\n",
       "      <td>theka coffee desi</td>\n",
       "      <td>Abohar</td>\n",
       "      <td>3.8</td>\n",
       "      <td>100+ ratings</td>\n",
       "      <td>₹ 100</td>\n",
       "      <td>Beverages</td>\n",
       "      <td>2.21217E+13</td>\n",
       "      <td>https://www.swiggy.com/restaurants/theka-coffe...</td>\n",
       "      <td>theka coffee desi, sahtiya sadan road city</td>\n",
       "      <td>Menu/158203.json</td>\n",
       "    </tr>\n",
       "    <tr>\n",
       "      <th>3</th>\n",
       "      <td>187912</td>\n",
       "      <td>Singh Hut</td>\n",
       "      <td>Abohar</td>\n",
       "      <td>3.7</td>\n",
       "      <td>20+ ratings</td>\n",
       "      <td>₹ 250</td>\n",
       "      <td>Fast Food,Indian</td>\n",
       "      <td>2.21197E+13</td>\n",
       "      <td>https://www.swiggy.com/restaurants/singh-hut-n...</td>\n",
       "      <td>Singh Hut, CIRCULAR ROAD NEAR NEHRU PARK ABOHAR</td>\n",
       "      <td>Menu/187912.json</td>\n",
       "    </tr>\n",
       "    <tr>\n",
       "      <th>4</th>\n",
       "      <td>543530</td>\n",
       "      <td>GRILL MASTERS</td>\n",
       "      <td>Abohar</td>\n",
       "      <td>--</td>\n",
       "      <td>Too Few Ratings</td>\n",
       "      <td>₹ 250</td>\n",
       "      <td>Italian-American,Fast Food</td>\n",
       "      <td>1.21222E+13</td>\n",
       "      <td>https://www.swiggy.com/restaurants/grill-maste...</td>\n",
       "      <td>GRILL MASTERS, ADA Heights, Abohar - Hanumanga...</td>\n",
       "      <td>Menu/543530.json</td>\n",
       "    </tr>\n",
       "  </tbody>\n",
       "</table>\n",
       "</div>"
      ],
      "text/plain": [
       "       id         restaurent    city rating     rating_count   cost  \\\n",
       "0  567335     AB FOODS POINT  Abohar     --  Too Few Ratings  ₹ 200   \n",
       "1  531342  Janta Sweet House  Abohar    4.4      50+ ratings  ₹ 200   \n",
       "2  158203  theka coffee desi  Abohar    3.8     100+ ratings  ₹ 100   \n",
       "3  187912          Singh Hut  Abohar    3.7      20+ ratings  ₹ 250   \n",
       "4  543530      GRILL MASTERS  Abohar     --  Too Few Ratings  ₹ 250   \n",
       "\n",
       "                      cuisine       lic_no  \\\n",
       "0            Beverages,Pizzas  2.21227E+13   \n",
       "1               Sweets,Bakery  1.21172E+13   \n",
       "2                   Beverages  2.21217E+13   \n",
       "3            Fast Food,Indian  2.21197E+13   \n",
       "4  Italian-American,Fast Food  1.21222E+13   \n",
       "\n",
       "                                                link  \\\n",
       "0  https://www.swiggy.com/restaurants/ab-foods-po...   \n",
       "1  https://www.swiggy.com/restaurants/janta-sweet...   \n",
       "2  https://www.swiggy.com/restaurants/theka-coffe...   \n",
       "3  https://www.swiggy.com/restaurants/singh-hut-n...   \n",
       "4  https://www.swiggy.com/restaurants/grill-maste...   \n",
       "\n",
       "                                             address              menu  \n",
       "0  AB FOODS POINT, NEAR RISHI NARANG DENTAL CLINI...  Menu/567335.json  \n",
       "1  Janta Sweet House, Bazar No.9, Circullar Road,...  Menu/531342.json  \n",
       "2         theka coffee desi, sahtiya sadan road city  Menu/158203.json  \n",
       "3    Singh Hut, CIRCULAR ROAD NEAR NEHRU PARK ABOHAR  Menu/187912.json  \n",
       "4  GRILL MASTERS, ADA Heights, Abohar - Hanumanga...  Menu/543530.json  "
      ]
     },
     "execution_count": 168,
     "metadata": {},
     "output_type": "execute_result"
    }
   ],
   "source": [
    "data = pd.read_csv(\"swiggy.csv\")\n",
    "data.head()"
   ]
  },
  {
   "cell_type": "code",
   "execution_count": 169,
   "id": "09990a95",
   "metadata": {},
   "outputs": [
    {
     "name": "stdout",
     "output_type": "stream",
     "text": [
      "<class 'pandas.core.frame.DataFrame'>\n",
      "RangeIndex: 148541 entries, 0 to 148540\n",
      "Data columns (total 11 columns):\n",
      " #   Column        Non-Null Count   Dtype \n",
      "---  ------        --------------   ----- \n",
      " 0   id            148541 non-null  int64 \n",
      " 1   restaurent    148455 non-null  object\n",
      " 2   city          148541 non-null  object\n",
      " 3   rating        148455 non-null  object\n",
      " 4   rating_count  148455 non-null  object\n",
      " 5   cost          148410 non-null  object\n",
      " 6   cuisine       148442 non-null  object\n",
      " 7   lic_no        148312 non-null  object\n",
      " 8   link          148541 non-null  object\n",
      " 9   address       148455 non-null  object\n",
      " 10  menu          148541 non-null  object\n",
      "dtypes: int64(1), object(10)\n",
      "memory usage: 12.5+ MB\n"
     ]
    }
   ],
   "source": [
    "data.info()"
   ]
  },
  {
   "cell_type": "code",
   "execution_count": 170,
   "id": "c0548dac",
   "metadata": {},
   "outputs": [
    {
     "data": {
      "text/html": [
       "<div>\n",
       "<style scoped>\n",
       "    .dataframe tbody tr th:only-of-type {\n",
       "        vertical-align: middle;\n",
       "    }\n",
       "\n",
       "    .dataframe tbody tr th {\n",
       "        vertical-align: top;\n",
       "    }\n",
       "\n",
       "    .dataframe thead th {\n",
       "        text-align: right;\n",
       "    }\n",
       "</style>\n",
       "<table border=\"1\" class=\"dataframe\">\n",
       "  <thead>\n",
       "    <tr style=\"text-align: right;\">\n",
       "      <th></th>\n",
       "      <th>id</th>\n",
       "    </tr>\n",
       "  </thead>\n",
       "  <tbody>\n",
       "    <tr>\n",
       "      <th>count</th>\n",
       "      <td>148541.000000</td>\n",
       "    </tr>\n",
       "    <tr>\n",
       "      <th>mean</th>\n",
       "      <td>363466.378912</td>\n",
       "    </tr>\n",
       "    <tr>\n",
       "      <th>std</th>\n",
       "      <td>167890.977174</td>\n",
       "    </tr>\n",
       "    <tr>\n",
       "      <th>min</th>\n",
       "      <td>211.000000</td>\n",
       "    </tr>\n",
       "    <tr>\n",
       "      <th>25%</th>\n",
       "      <td>233320.000000</td>\n",
       "    </tr>\n",
       "    <tr>\n",
       "      <th>50%</th>\n",
       "      <td>412628.000000</td>\n",
       "    </tr>\n",
       "    <tr>\n",
       "      <th>75%</th>\n",
       "      <td>502223.000000</td>\n",
       "    </tr>\n",
       "    <tr>\n",
       "      <th>max</th>\n",
       "      <td>581031.000000</td>\n",
       "    </tr>\n",
       "  </tbody>\n",
       "</table>\n",
       "</div>"
      ],
      "text/plain": [
       "                  id\n",
       "count  148541.000000\n",
       "mean   363466.378912\n",
       "std    167890.977174\n",
       "min       211.000000\n",
       "25%    233320.000000\n",
       "50%    412628.000000\n",
       "75%    502223.000000\n",
       "max    581031.000000"
      ]
     },
     "execution_count": 170,
     "metadata": {},
     "output_type": "execute_result"
    }
   ],
   "source": [
    "data.describe()"
   ]
  },
  {
   "cell_type": "code",
   "execution_count": 171,
   "id": "261dec48",
   "metadata": {},
   "outputs": [
    {
     "data": {
      "text/plain": [
       "(148541, 11)"
      ]
     },
     "execution_count": 171,
     "metadata": {},
     "output_type": "execute_result"
    }
   ],
   "source": [
    "data.shape"
   ]
  },
  {
   "cell_type": "code",
   "execution_count": 172,
   "id": "92b93a28",
   "metadata": {},
   "outputs": [
    {
     "data": {
      "text/plain": [
       "(148541, 11)"
      ]
     },
     "execution_count": 172,
     "metadata": {},
     "output_type": "execute_result"
    }
   ],
   "source": [
    "data = data.rename(columns={'Unnamed:0':'id','name':'Restaurant'})\n",
    "data.drop_duplicates(subset='id', keep='first', inplace=True)\n",
    "data.shape"
   ]
  },
  {
   "cell_type": "code",
   "execution_count": 173,
   "id": "7d9573aa",
   "metadata": {},
   "outputs": [
    {
     "data": {
      "text/plain": [
       "11"
      ]
     },
     "execution_count": 173,
     "metadata": {},
     "output_type": "execute_result"
    }
   ],
   "source": [
    "Cities = list(data.keys())\n",
    "len(Cities)"
   ]
  },
  {
   "cell_type": "code",
   "execution_count": 174,
   "id": "119a566e",
   "metadata": {},
   "outputs": [
    {
     "name": "stdout",
     "output_type": "stream",
     "text": [
      "<class 'pandas.core.frame.DataFrame'>\n",
      "Int64Index: 148541 entries, 0 to 148540\n",
      "Data columns (total 11 columns):\n",
      " #   Column        Non-Null Count   Dtype \n",
      "---  ------        --------------   ----- \n",
      " 0   id            148541 non-null  int64 \n",
      " 1   restaurent    148455 non-null  object\n",
      " 2   city          148541 non-null  object\n",
      " 3   rating        148455 non-null  object\n",
      " 4   rating_count  148455 non-null  object\n",
      " 5   cost          148410 non-null  object\n",
      " 6   cuisine       148442 non-null  object\n",
      " 7   lic_no        148312 non-null  object\n",
      " 8   link          148541 non-null  object\n",
      " 9   address       148455 non-null  object\n",
      " 10  menu          148541 non-null  object\n",
      "dtypes: int64(1), object(10)\n",
      "memory usage: 13.6+ MB\n"
     ]
    }
   ],
   "source": [
    "data.info()"
   ]
  },
  {
   "cell_type": "markdown",
   "id": "c3424183",
   "metadata": {},
   "source": [
    "# Checking the Null values"
   ]
  },
  {
   "cell_type": "code",
   "execution_count": 175,
   "id": "e89f0bf5",
   "metadata": {},
   "outputs": [
    {
     "data": {
      "text/plain": [
       "id              0.0\n",
       "restaurent      0.0\n",
       "city            0.0\n",
       "rating          0.0\n",
       "rating_count    0.0\n",
       "cost            0.0\n",
       "cuisine         0.0\n",
       "lic_no          0.0\n",
       "link            0.0\n",
       "address         0.0\n",
       "menu            0.0\n",
       "dtype: float64"
      ]
     },
     "execution_count": 175,
     "metadata": {},
     "output_type": "execute_result"
    }
   ],
   "source": [
    "round(100*(data.isnull().sum())/len(data))"
   ]
  },
  {
   "cell_type": "markdown",
   "id": "1d6a8b35",
   "metadata": {},
   "source": [
    "# Checking the duplicate values"
   ]
  },
  {
   "cell_type": "code",
   "execution_count": 176,
   "id": "21dd37eb",
   "metadata": {},
   "outputs": [
    {
     "data": {
      "text/plain": [
       "0"
      ]
     },
     "execution_count": 176,
     "metadata": {},
     "output_type": "execute_result"
    }
   ],
   "source": [
    "data.duplicated().sum()"
   ]
  },
  {
   "cell_type": "markdown",
   "id": "56f1c0b0",
   "metadata": {},
   "source": [
    "# Checking the unique values"
   ]
  },
  {
   "cell_type": "code",
   "execution_count": 177,
   "id": "985f9751",
   "metadata": {},
   "outputs": [
    {
     "data": {
      "text/plain": [
       "id              148541\n",
       "restaurent      112818\n",
       "city               821\n",
       "rating              42\n",
       "rating_count         8\n",
       "cost               363\n",
       "cuisine           2132\n",
       "lic_no            1362\n",
       "link            148541\n",
       "address         148401\n",
       "menu            148541\n",
       "dtype: int64"
      ]
     },
     "execution_count": 177,
     "metadata": {},
     "output_type": "execute_result"
    }
   ],
   "source": [
    "data.nunique()"
   ]
  },
  {
   "cell_type": "code",
   "execution_count": 178,
   "id": "ee6a6ad5",
   "metadata": {},
   "outputs": [
    {
     "data": {
      "text/plain": [
       "--     87014\n",
       "4       6532\n",
       "4.1     6296\n",
       "4.2     5821\n",
       "3.8     5736\n",
       "3.9     5435\n",
       "4.3     5011\n",
       "3.7     4253\n",
       "4.4     3149\n",
       "3.5     2963\n",
       "3.6     2925\n",
       "3.4     1879\n",
       "3.3     1801\n",
       "4.5     1778\n",
       "4.6     1334\n",
       "3.2     1202\n",
       "3        859\n",
       "3.1      791\n",
       "4.7      648\n",
       "2.8      473\n",
       "2.9      472\n",
       "4.8      338\n",
       "2.7      325\n",
       "2.5      221\n",
       "5        209\n",
       "2.6      208\n",
       "4.9      174\n",
       "2.3      128\n",
       "2.4      118\n",
       "2.2       89\n",
       "2         72\n",
       "2.1       61\n",
       "1.9       46\n",
       "1.8       27\n",
       "1.5       18\n",
       "1.6       17\n",
       "1.7       13\n",
       "1.4       10\n",
       "1.2        4\n",
       "1.3        3\n",
       "1.1        1\n",
       "1          1\n",
       "Name: rating, dtype: int64"
      ]
     },
     "execution_count": 178,
     "metadata": {},
     "output_type": "execute_result"
    }
   ],
   "source": [
    "data['rating'].value_counts()"
   ]
  },
  {
   "cell_type": "code",
   "execution_count": 179,
   "id": "bea83a85",
   "metadata": {},
   "outputs": [],
   "source": [
    "data[\"cost\"]=data[\"cost\"].str.split(\"₹\").str[1]"
   ]
  },
  {
   "cell_type": "code",
   "execution_count": 180,
   "id": "663c0f34",
   "metadata": {},
   "outputs": [
    {
     "data": {
      "text/plain": [
       "0          200\n",
       "1          200\n",
       "2          100\n",
       "3          250\n",
       "4          250\n",
       "          ... \n",
       "148536     200\n",
       "148537     300\n",
       "148538     300\n",
       "148539     250\n",
       "148540     200\n",
       "Name: cost, Length: 148541, dtype: object"
      ]
     },
     "execution_count": 180,
     "metadata": {},
     "output_type": "execute_result"
    }
   ],
   "source": [
    "data[\"cost\"]"
   ]
  },
  {
   "cell_type": "code",
   "execution_count": 181,
   "id": "cbbad530",
   "metadata": {},
   "outputs": [],
   "source": [
    "# converting objext string datatype to float\n",
    "data['cost']=data[\"cost\"].astype(float)"
   ]
  },
  {
   "cell_type": "code",
   "execution_count": 182,
   "id": "ee4828f6",
   "metadata": {},
   "outputs": [
    {
     "name": "stdout",
     "output_type": "stream",
     "text": [
      "<class 'pandas.core.frame.DataFrame'>\n",
      "Int64Index: 148541 entries, 0 to 148540\n",
      "Data columns (total 11 columns):\n",
      " #   Column        Non-Null Count   Dtype  \n",
      "---  ------        --------------   -----  \n",
      " 0   id            148541 non-null  int64  \n",
      " 1   restaurent    148455 non-null  object \n",
      " 2   city          148541 non-null  object \n",
      " 3   rating        148455 non-null  object \n",
      " 4   rating_count  148455 non-null  object \n",
      " 5   cost          148410 non-null  float64\n",
      " 6   cuisine       148442 non-null  object \n",
      " 7   lic_no        148312 non-null  object \n",
      " 8   link          148541 non-null  object \n",
      " 9   address       148455 non-null  object \n",
      " 10  menu          148541 non-null  object \n",
      "dtypes: float64(1), int64(1), object(9)\n",
      "memory usage: 13.6+ MB\n"
     ]
    }
   ],
   "source": [
    "data.info()"
   ]
  },
  {
   "cell_type": "code",
   "execution_count": 183,
   "id": "7d9fd9e5",
   "metadata": {},
   "outputs": [],
   "source": [
    "# replacing \"__\" with nan values\n",
    "data['rating'].replace(\"--\", np.nan, inplace=True)"
   ]
  },
  {
   "cell_type": "code",
   "execution_count": 184,
   "id": "d060c861",
   "metadata": {},
   "outputs": [
    {
     "data": {
      "text/plain": [
       "0         NaN\n",
       "1         4.4\n",
       "2         3.8\n",
       "3         3.7\n",
       "4         NaN\n",
       "         ... \n",
       "148536    NaN\n",
       "148537    NaN\n",
       "148538    NaN\n",
       "148539    NaN\n",
       "148540    NaN\n",
       "Name: rating, Length: 148541, dtype: object"
      ]
     },
     "execution_count": 184,
     "metadata": {},
     "output_type": "execute_result"
    }
   ],
   "source": [
    "data['rating']"
   ]
  },
  {
   "cell_type": "code",
   "execution_count": 185,
   "id": "068277c6",
   "metadata": {},
   "outputs": [],
   "source": [
    "data['rating'].fillna(data['rating'].median(), inplace = True)"
   ]
  },
  {
   "cell_type": "code",
   "execution_count": 186,
   "id": "d00ea143",
   "metadata": {},
   "outputs": [
    {
     "data": {
      "text/plain": [
       "0         4.0\n",
       "1         4.4\n",
       "2         3.8\n",
       "3         3.7\n",
       "4         4.0\n",
       "         ... \n",
       "148536    4.0\n",
       "148537    4.0\n",
       "148538    4.0\n",
       "148539    4.0\n",
       "148540    4.0\n",
       "Name: rating, Length: 148541, dtype: object"
      ]
     },
     "execution_count": 186,
     "metadata": {},
     "output_type": "execute_result"
    }
   ],
   "source": [
    "data['rating']"
   ]
  },
  {
   "cell_type": "code",
   "execution_count": 187,
   "id": "860eed97",
   "metadata": {},
   "outputs": [
    {
     "data": {
      "text/plain": [
       "0         Too Few Ratings\n",
       "1             50+ ratings\n",
       "2            100+ ratings\n",
       "3             20+ ratings\n",
       "4         Too Few Ratings\n",
       "               ...       \n",
       "148536    Too Few Ratings\n",
       "148537    Too Few Ratings\n",
       "148538    Too Few Ratings\n",
       "148539    Too Few Ratings\n",
       "148540    Too Few Ratings\n",
       "Name: rating_count, Length: 148541, dtype: object"
      ]
     },
     "execution_count": 187,
     "metadata": {},
     "output_type": "execute_result"
    }
   ],
   "source": [
    "data['rating_count']"
   ]
  },
  {
   "cell_type": "markdown",
   "id": "fe4f138a",
   "metadata": {},
   "source": [
    "# Feature Engineering: Mapping types of rating_counts int 0 numerical values"
   ]
  },
  {
   "cell_type": "code",
   "execution_count": 188,
   "id": "045ad5c5",
   "metadata": {},
   "outputs": [],
   "source": [
    "data['rating_count']=data['rating_count'].map({\"10k+sratings\": 1, '5k+ ratings': 2, '1k+ ratings': 3, '500+ ratings': 4, '50+ ratings': 5,'100+ratings': 6, '20+ ratings': 7, 'Too Few Ratings': 8})"
   ]
  },
  {
   "cell_type": "code",
   "execution_count": 189,
   "id": "14faaddf",
   "metadata": {},
   "outputs": [
    {
     "data": {
      "text/plain": [
       "0         8.0\n",
       "1         5.0\n",
       "2         NaN\n",
       "3         7.0\n",
       "4         8.0\n",
       "         ... \n",
       "148536    8.0\n",
       "148537    8.0\n",
       "148538    8.0\n",
       "148539    8.0\n",
       "148540    8.0\n",
       "Name: rating_count, Length: 148541, dtype: float64"
      ]
     },
     "execution_count": 189,
     "metadata": {},
     "output_type": "execute_result"
    }
   ],
   "source": [
    "data['rating_count']"
   ]
  },
  {
   "cell_type": "code",
   "execution_count": 190,
   "id": "077a172f",
   "metadata": {},
   "outputs": [
    {
     "data": {
      "text/plain": [
       "8.0    87014\n",
       "7.0    21636\n",
       "5.0    12009\n",
       "4.0     4396\n",
       "Name: rating_count, dtype: int64"
      ]
     },
     "execution_count": 190,
     "metadata": {},
     "output_type": "execute_result"
    }
   ],
   "source": [
    "data['rating_count'].value_counts()"
   ]
  },
  {
   "cell_type": "code",
   "execution_count": 191,
   "id": "89409795",
   "metadata": {},
   "outputs": [
    {
     "name": "stdout",
     "output_type": "stream",
     "text": [
      "<class 'pandas.core.frame.DataFrame'>\n",
      "Int64Index: 148541 entries, 0 to 148540\n",
      "Data columns (total 11 columns):\n",
      " #   Column        Non-Null Count   Dtype  \n",
      "---  ------        --------------   -----  \n",
      " 0   id            148541 non-null  int64  \n",
      " 1   restaurent    148455 non-null  object \n",
      " 2   city          148541 non-null  object \n",
      " 3   rating        148541 non-null  object \n",
      " 4   rating_count  125055 non-null  float64\n",
      " 5   cost          148410 non-null  float64\n",
      " 6   cuisine       148442 non-null  object \n",
      " 7   lic_no        148312 non-null  object \n",
      " 8   link          148541 non-null  object \n",
      " 9   address       148455 non-null  object \n",
      " 10  menu          148541 non-null  object \n",
      "dtypes: float64(2), int64(1), object(8)\n",
      "memory usage: 13.6+ MB\n"
     ]
    }
   ],
   "source": [
    "data.info()"
   ]
  },
  {
   "cell_type": "code",
   "execution_count": 192,
   "id": "9f30677d",
   "metadata": {},
   "outputs": [
    {
     "data": {
      "text/plain": [
       "Rangpo                       1\n",
       "Noida Expressway,Delhi       1\n",
       "Kohima                       1\n",
       "Manali                       1\n",
       "BBK_MayurVihar,Delhi         1\n",
       "                          ... \n",
       "Rohini,Delhi              1136\n",
       "BTM,Bangalore             1161\n",
       "Indirapuram,Delhi         1279\n",
       "Noida-1                   1428\n",
       "Bikaner                   1666\n",
       "Name: city, Length: 821, dtype: int64"
      ]
     },
     "execution_count": 192,
     "metadata": {},
     "output_type": "execute_result"
    }
   ],
   "source": [
    "data['city'].value_counts().sort_values()"
   ]
  },
  {
   "cell_type": "markdown",
   "id": "15c78929",
   "metadata": {},
   "source": [
    "### Identify the number of restaurants listed on Swiggy in India\n",
    "\n",
    "Determine the number of cities that have restaurants listed on Swiggy\n",
    "\n",
    "Identify the city with the maximum number of restaurants listed on Swiggy\n",
    "\n",
    "Determine the top 10 cities as per the number of restaurants listed on Swiggy\n",
    "\n",
    "Determine the most popular cuisines served throughout the dataset\n",
    "\n",
    "Identify the city with the least expensive restaurant in terms of cost\n",
    "\n",
    "Determine the top 5 most popular restaurant chains in India\n",
    "\n",
    "Identify the restaurant in Bangalore that has the most number of people visited based on the number of reviews "
   ]
  },
  {
   "cell_type": "code",
   "execution_count": 193,
   "id": "4571062c",
   "metadata": {},
   "outputs": [
    {
     "name": "stdout",
     "output_type": "stream",
     "text": [
      "City with the maximum number of restaurants listed on Swiggy: Bikaner\n"
     ]
    }
   ],
   "source": [
    "# grouping the dataset by city and count the number of unique restaurant IDs in each city\n",
    "city_counts=data.groupby('city')['id'].nunique()\n",
    "#get the city with the maximum count\n",
    "max_city=city_counts.idxmax()\n",
    "\n",
    "# Print the result\n",
    "print('City with the maximum number of restaurants listed on Swiggy:', max_city)"
   ]
  },
  {
   "cell_type": "code",
   "execution_count": 194,
   "id": "1e685448",
   "metadata": {},
   "outputs": [
    {
     "data": {
      "text/plain": [
       "city\n",
       "Bikaner                      1666\n",
       "Noida-1                      1428\n",
       "Indirapuram,Delhi            1279\n",
       "BTM,Bangalore                1161\n",
       "Rohini,Delhi                 1136\n",
       "Kothrud,Pune                 1089\n",
       "Indiranagar,Bangalore        1080\n",
       "Electronic City,Bangalore    1039\n",
       "Greater Kailash 2,Delhi      1038\n",
       "Vashi,Mumbai                 1022\n",
       "Name: id, dtype: int64"
      ]
     },
     "execution_count": 194,
     "metadata": {},
     "output_type": "execute_result"
    }
   ],
   "source": [
    "max_city = city_counts.nlargest(10)\n",
    "max_city"
   ]
  },
  {
   "cell_type": "code",
   "execution_count": 195,
   "id": "7c3faa84",
   "metadata": {},
   "outputs": [
    {
     "data": {
      "text/plain": [
       "North Indian,Chinese    6471\n",
       "Indian                  6414\n",
       "Chinese                 5051\n",
       "North Indian            4775\n",
       "Indian,Chinese          4374\n",
       "South Indian            3303\n",
       "Bakery                  3132\n",
       "Chinese,Indian          2308\n",
       "Chinese,North Indian    2288\n",
       "Bakery,Desserts         2233\n",
       "Name: cuisine, dtype: int64"
      ]
     },
     "execution_count": 195,
     "metadata": {},
     "output_type": "execute_result"
    }
   ],
   "source": [
    "popular_cuisine =data['cuisine'].value_counts()\n",
    "popular_cuisine.head(10)"
   ]
  },
  {
   "cell_type": "code",
   "execution_count": 196,
   "id": "c68c9898",
   "metadata": {},
   "outputs": [
    {
     "name": "stdout",
     "output_type": "stream",
     "text": [
      "The city with the least expensive restaurants iscity\n",
      "Hampi               100.000000\n",
      "Hindaun             121.052632\n",
      "Hansi               148.421053\n",
      "Jalaun              150.000000\n",
      "Amreli              152.962963\n",
      "Bathinda            167.115607\n",
      "Alambagh,Lucknow    167.272727\n",
      "Nandurbar           169.230769\n",
      "Shrirampur          169.444444\n",
      "Sehore              169.850000\n",
      "Name: cost, dtype: float64.\n"
     ]
    }
   ],
   "source": [
    "city_cost = data.groupby('city')['cost'].mean().sort_values()\n",
    "least_expensive_city = city_cost.head(10)\n",
    "print(f\"The city with the least expensive restaurants is{least_expensive_city}.\")"
   ]
  },
  {
   "cell_type": "code",
   "execution_count": 197,
   "id": "0848f8f1",
   "metadata": {},
   "outputs": [
    {
     "name": "stdout",
     "output_type": "stream",
     "text": [
      "The top 5 most popular restaurant chains in India are:\n",
      "Domino's Pizza\n",
      "Pizza Hut\n",
      "KFC\n",
      "Kwality Walls Frozen Dessert and Ice Cream Shop\n",
      "Baskin Robbins\n"
     ]
    }
   ],
   "source": [
    "top_chains = data.groupby('restaurent')['id'].count().sort_values(ascending=False).head(5).index.tolist()\n",
    "print(\"The top 5 most popular restaurant chains in India are:\")\n",
    "for chain in top_chains:\n",
    "    print(chain)"
   ]
  },
  {
   "cell_type": "code",
   "execution_count": 198,
   "id": "9e6c441f",
   "metadata": {},
   "outputs": [
    {
     "name": "stdout",
     "output_type": "stream",
     "text": [
      "The restaurant in Bangalore with the most number of people visited is<bound method IndexOpsMixin.tolist of Int64Index([], dtype='int64')>.\n"
     ]
    }
   ],
   "source": [
    "bangalore_data=data[data['city']=='Bangalore']\n",
    "most_popular_restaurant = bangalore_data.sort_values('rating_count', ascending=False)['restaurent'].index.tolist\n",
    "print(f\"The restaurant in Bangalore with the most number of people visited is{most_popular_restaurant}.\")"
   ]
  },
  {
   "cell_type": "code",
   "execution_count": null,
   "id": "3a21a06f",
   "metadata": {},
   "outputs": [],
   "source": []
  }
 ],
 "metadata": {
  "kernelspec": {
   "display_name": "Python 3 (ipykernel)",
   "language": "python",
   "name": "python3"
  },
  "language_info": {
   "codemirror_mode": {
    "name": "ipython",
    "version": 3
   },
   "file_extension": ".py",
   "mimetype": "text/x-python",
   "name": "python",
   "nbconvert_exporter": "python",
   "pygments_lexer": "ipython3",
   "version": "3.9.13"
  }
 },
 "nbformat": 4,
 "nbformat_minor": 5
}
